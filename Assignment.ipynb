{
 "cells": [
  {
   "cell_type": "code",
   "execution_count": 1,
   "id": "d63be613-a3b5-40e6-96a6-e52eb5204b43",
   "metadata": {},
   "outputs": [
    {
     "data": {
      "text/plain": [
       "\"1):- who developed python programming language ?\\n\\nAnswer:-Guido van Rossum\\n        \\n       1) When he began implementing Python, Guido van Rossum was also reading the published scripts from “Monty Python's Flying Circus”,\\n        a BBC comedy series from the 1970s. Van Rossum thought he needed a name that was short, unique, and slightly mysterious,\\n        so he decided to call the language Python.\\n        \\n        2) He has been invariably worked as the lead developer, until 12 July 2018. \\n        3) In Jan 2019, active Python core developers elected a five member council to lead the project.\\n\""
      ]
     },
     "execution_count": 1,
     "metadata": {},
     "output_type": "execute_result"
    }
   ],
   "source": [
    "                                        #-----------------------------Assignment 1----------------------\n",
    "# 1):- who developed python programming language ?\n",
    "\n",
    "\"\"\"\n",
    "Answer:-Guido van Rossum\n",
    "        \n",
    "       1) When he began implementing Python, Guido van Rossum was also reading the published scripts from “Monty Python's Flying Circus”,\n",
    "        a BBC comedy series from the 1970s. Van Rossum thought he needed a name that was short, unique, and slightly mysterious,\n",
    "        so he decided to call the language Python.\n",
    "        \n",
    "        2) He has been invariably worked as the lead developer, until 12 July 2018. \n",
    "       3) In Jan 2019, active Python core developers elected a five member council to lead the project.\"\"\"\n",
    "\n"
   ]
  },
  {
   "cell_type": "code",
   "execution_count": null,
   "id": "003d3e63-e550-4d1e-a2e7-d85688a47efe",
   "metadata": {},
   "outputs": [],
   "source": [
    "# 2)- Which type of programing does python support ?\n",
    "\n",
    "\"\"\"\n",
    "Answer:-   Python can serve as a scripting language for web applications.\n",
    "            Web Framework –Django ,Flask, etc.\n",
    "            Libraries like Numpy , SciPy, Matplotlib are used in scientific computations.\n",
    "            You can develop variety of applications using Python\n",
    "            1):- Console application,\n",
    "            2):- Web application, \n",
    "            3):- Desktop application, \n",
    "            4):- Mobile application, \n",
    "            5):- IOT application, \n",
    "            6):- Data Analytics, \n",
    "            7):- AI based application, Many more.\n",
    "\n",
    "Major Use:-\n",
    "Website development\n",
    "Task Automation \n",
    "Data Analysis    \n",
    "Data Visualization\"\"\"\n"
   ]
  },
  {
   "cell_type": "code",
   "execution_count": null,
   "id": "4a378e0e-74b9-4d0d-96df-1644898dab25",
   "metadata": {},
   "outputs": [],
   "source": []
  },
  {
   "cell_type": "code",
   "execution_count": null,
   "id": "9ae541c7-51e2-415e-895e-29b30bdf4d3a",
   "metadata": {},
   "outputs": [],
   "source": [
    "# 3 ):- Is python case sensitive when dealing with identifiers ?\n",
    "\n",
    "\"\"\"\n",
    "    Python is a case-sensitive language. This means, Variable and variable are not the same. \n",
    "    Always give the identifiers a name that makes sense. While c = 10 is a valid name, writing \n",
    "    count = 10 would make more sense, \n",
    "    and it would be easier to figure out what it represents when you look at your code after a long gap.\n",
    "    \n",
    "    example:--\n",
    "        var = 5 # this is the case sensitive variables.\n",
    "        VAR = 5 \n",
    "        a = 8\n",
    "        A = 9\n",
    "    \"\"\""
   ]
  },
  {
   "cell_type": "code",
   "execution_count": null,
   "id": "b046af2c-2d71-494b-92f3-ce79326fbf63",
   "metadata": {},
   "outputs": [],
   "source": []
  },
  {
   "cell_type": "code",
   "execution_count": null,
   "id": "4c240699-17c4-4ade-a320-02a5d7d9c460",
   "metadata": {},
   "outputs": [],
   "source": [
    "# 4):- what is the correct extension of the python file ?\n",
    "\n",
    "\"\"\"\n",
    "     After writing the Python program, we have to save the file inside\n",
    "     the folder where our Python IDE is installed, and we have to save\n",
    "     it with Python file extension, i.e., '.py' extension. We have saved the file with the \n",
    "     'Hello.py' name in our device for this program.\n",
    "     \n",
    "     some examples:-\n",
    "         first.py\n",
    "         hello.py\n",
    "    \"\"\""
   ]
  },
  {
   "cell_type": "code",
   "execution_count": null,
   "id": "d029abc8-893d-4aa4-b047-9acee184e20d",
   "metadata": {},
   "outputs": [],
   "source": []
  },
  {
   "cell_type": "code",
   "execution_count": null,
   "id": "1c75b93a-54e1-4531-8e9e-11f78316d2f3",
   "metadata": {},
   "outputs": [],
   "source": [
    "# 5):- Is python code compiled or interpreted ?\n",
    "\n",
    "\"\"\"\n",
    "        Python is an interpreted language, i.e., it is compiled and executed simultaneously line by line.\n",
    "        \n",
    "        Python has shorter lines of code as you directly write the code and it gets interpreted.\n",
    "        \n",
    "         The compile part gets deleted as soon as the code gets executed so that the programmer doesn't get onto unnecessary complexity \n",
    "         \n",
    "For eg-\n",
    "print('Hello, world!')\n",
    "    \"\"\""
   ]
  },
  {
   "cell_type": "code",
   "execution_count": null,
   "id": "b4089db4-01b1-4505-847d-f63b5354b0b6",
   "metadata": {},
   "outputs": [],
   "source": []
  },
  {
   "cell_type": "code",
   "execution_count": null,
   "id": "ff942686-45ac-4b7a-947b-b13053cda55b",
   "metadata": {},
   "outputs": [],
   "source": [
    "# 6) :- Name a few block of code used to define in python language ?\n",
    "\n",
    "    \"\"\"\"\n",
    "        Name:-\n",
    "            Name in namespace is a variable which is used to contain id(Reference) of\n",
    "                Instance object\n",
    "                Function object\n",
    "                Class object\n",
    "           Indentation is used to define a block of code in python. Braces {} are used to define a block \n",
    "           of code in most programming languages, like C, C++,\n",
    "           and Java. But this indentation makes python unique among all programming languages.\n",
    "            \"\"\"\""
   ]
  },
  {
   "cell_type": "code",
   "execution_count": null,
   "id": "206236ab-2358-42b6-8702-1f95f0bd12df",
   "metadata": {},
   "outputs": [],
   "source": []
  },
  {
   "cell_type": "code",
   "execution_count": null,
   "id": "fd23a05d-3c32-426b-9588-eaa34edf8d47",
   "metadata": {},
   "outputs": [],
   "source": [
    "# 7) :- State a character used to give single- line comments in python ?\n",
    "\"\"\"\n",
    "    Single line comments (#)\n",
    "\t# Text here is a single line comments\n",
    "    \"\"\"\n",
    "\n",
    "s = \"Harry Yadav\" #s is a str data type"
   ]
  },
  {
   "cell_type": "code",
   "execution_count": null,
   "id": "38ef999a-d316-48ed-8b3b-408206380250",
   "metadata": {},
   "outputs": [],
   "source": []
  },
  {
   "cell_type": "code",
   "execution_count": null,
   "id": "b226f05c-1abe-4111-ae4c-7b2df59ac234",
   "metadata": {},
   "outputs": [],
   "source": [
    "\n",
    "# 8):- Mention function which can help us to find the version of python that we are currently working on?\n",
    "\n",
    "\n",
    "\"\"\"\n",
    "   To check which Python version is running, you can use either the sys or the platform module. The script will be the same for Windows, macOS, and Linux.\n",
    "\n",
    "To check the Python version using the sys module, write:\n",
    "\n",
    "    code :-\n",
    "           import sys\n",
    "           print (sys.version) \n",
    "\"\"\""
   ]
  },
  {
   "cell_type": "code",
   "execution_count": null,
   "id": "396e802c-da2f-4478-8e1c-13a673f37e14",
   "metadata": {},
   "outputs": [],
   "source": []
  },
  {
   "cell_type": "code",
   "execution_count": 11,
   "id": "e318f363-4333-47d8-933e-2334c3c05752",
   "metadata": {},
   "outputs": [
    {
     "data": {
      "text/plain": [
       "' In Python,we can define a python function at runtime execute with the help of FunctionType(). \\n        First we import types module then perform compile() function and pass parameter exec and after \\n       \\n       that with the help FunctionType() define the function at runtime.\\n        \\n        Python supports to make anonymous functions which are not \\n        ound to a name(@ runtime). It uses a construct called lambda \\n'"
      ]
     },
     "execution_count": 11,
     "metadata": {},
     "output_type": "execute_result"
    }
   ],
   "source": [
    "# 9):-Python supports th creation of anonymousfunction at runtime, using a construct called\n",
    "\n",
    "\"\"\" In Python,we can define a python function at runtime execute with the help of FunctionType(). \n",
    "        First we import types module then perform compile() function and pass parameter exec and after \n",
    "       \n",
    "       that with the help FunctionType() define the function at runtime.\n",
    "        \n",
    "        Python supports to make anonymous functions which are not \n",
    "        ound to a name(@ runtime). It uses a construct called lambda \n",
    "\"\"\"\n",
    "    \n",
    "    "
   ]
  },
  {
   "cell_type": "code",
   "execution_count": null,
   "id": "bd888491-bc5a-4840-ad94-0d716e31c769",
   "metadata": {},
   "outputs": [],
   "source": []
  },
  {
   "cell_type": "code",
   "execution_count": 12,
   "id": "cf25bd28-2c47-4c0e-b747-13a8d7b86930",
   "metadata": {},
   "outputs": [
    {
     "data": {
      "text/plain": [
       "'\\n       pip stand for preferred installer program\"\\n       \\n       Pip can be described as a tool to install the packages of Python.\\n       We can download, search, and install many packages\\n       using Python Package Index (short for PyPI) and other indexes of the package with pip. \\n       The pip is used to install and manage Python software packages\\n       \\n       \\n       '"
      ]
     },
     "execution_count": 12,
     "metadata": {},
     "output_type": "execute_result"
    }
   ],
   "source": [
    "# 10):- what does pip stand for python\n",
    "\"\"\"\n",
    "       pip stand for preferred installer program\"\n",
    "       \n",
    "       Pip can be described as a tool to install the packages of Python.\n",
    "       We can download, search, and install many packages\n",
    "       using Python Package Index (short for PyPI) and other indexes of the package with pip. \n",
    "       The pip is used to install and manage Python software packages\n",
    "       \n",
    "       \n",
    "       \"\"\""
   ]
  },
  {
   "cell_type": "code",
   "execution_count": null,
   "id": "a434bfcc-d90d-4040-b8ea-a7be7eacd92b",
   "metadata": {},
   "outputs": [],
   "source": []
  },
  {
   "cell_type": "code",
   "execution_count": 13,
   "id": "4ee91476-50d2-4b8f-9a37-8106a2939750",
   "metadata": {},
   "outputs": [],
   "source": [
    "# # 11):- Mention a few build-in function in python ?\n",
    "# \"\"\"\n",
    "# Python has a set of built-in functions.\n",
    "\n",
    "# Function\tDescription\n",
    "# abs()\tReturns the absolute value of a number\n",
    "# all()\tReturns True if all items in an iterable object are true\n",
    "# any()\tReturns True if any item in an iterable object is true\n",
    "# ascii()\tReturns a readable version of an object. Replaces none-ascii characters with escape character\n",
    "# bin()\tReturns the binary version of a number\n",
    "# bool()\tReturns the boolean value of the specified object\n",
    "# bytearray()\tReturns an array of bytes\n",
    "# bytes()\tReturns a bytes object\n",
    "# callable()\tReturns True if the specified object is callable, otherwise False\n",
    "# chr()\tReturns a character from the specified Unicode code.\n",
    "# classmethod()\tConverts a method into a class method\n",
    "# compile()\tReturns the specified source as an object, ready to be executed\n",
    "# complex()\tReturns a complex number\n",
    "# delattr()\tDeletes the specified attribute (property or method) from the specified object\n",
    "# dict()\tReturns a dictionary (Array)\n",
    "# dir()\tReturns a list of the specified object's properties and methods\n",
    "# divmod()\tReturns the quotient and the remainder when argument1 is divided by argument2\n",
    "# enumerate()\tTakes a collection (e.g. a tuple) and returns it as an enumerate object\n",
    "# eval()\tEvaluates and executes an expression\n",
    "# exec()\tExecutes the specified code (or object)\n",
    "# filter()\tUse a filter function to exclude items in an iterable object\n",
    "# float()\tReturns a floating point number\n",
    "# format()\tFormats a specified value\n",
    "# frozenset()\tReturns a frozenset object\n",
    "# getattr()\tReturns the value of the specified attribute (property or method)\n",
    "# globals()\tReturns the current global symbol table as a dictionary\n",
    "# hasattr()\tReturns True if the specified object has the specified attribute (property/method)\n",
    "# hash()\tReturns the hash value of a specified object\n",
    "# help()\tExecutes the built-in help system\n",
    "# hex()\tConverts a number into a hexadecimal value\n",
    "# id()\tReturns the id of an object\n",
    "# input()\tAllowing user input\n",
    "# int()\tReturns an integer number\n",
    "# isinstance()\tReturns True if a specified object is an instance of a specified object\n",
    "# issubclass()\tReturns True if a specified class is a subclass of a specified object\n",
    "# iter()\tReturns an iterator object\n",
    "# len()\tReturns the length of an object\n",
    "# list()\tReturns a list\n",
    "# locals()\tReturns an updated dictionary of the current local symbol table\n",
    "# map()\tReturns the specified iterator with the specified function applied to each item\n",
    "# max()\tReturns the largest item in an iterable\n",
    "# memoryview()\tReturns a memory view object\n",
    "# min()\tReturns the smallest item in an iterable\n",
    "# next()\tReturns the next item in an iterable\n",
    "# object()\tReturns a new object\n",
    "# oct()\tConverts a number into an octal\n",
    "# open()\tOpens a file and returns a file object\n",
    "# ord()\tConvert an integer representing the Unicode of the specified character\n",
    "# pow()\tReturns the value of x to the power of y\n",
    "# print()\tPrints to the standard output device\n",
    "# property()\tGets, sets, deletes a property\n",
    "# range()\tReturns a sequence of numbers, starting from 0 and increments by 1 (by default)\n",
    "# repr()\tReturns a readable version of an object\n",
    "# reversed()\tReturns a reversed iterator\n",
    "# round()\tRounds a numbers\n",
    "# set()\tReturns a new set object\n",
    "# setattr()\tSets an attribute (property/method) of an object\n",
    "# slice()\tReturns a slice object\n",
    "# sorted()\tReturns a sorted list\n",
    "# staticmethod()\tConverts a method into a static method\n",
    "# str()\tReturns a string object\n",
    "# sum()\tSums the items of an iterator\n",
    "# super()\tReturns an object that represents the parent class\n",
    "# tuple()\tReturns a tuple\n",
    "# type()\tReturns the type of an object\n",
    "# vars()\tReturns the __dict__ property of an object\n",
    "# zip()\tReturns an iterator, from two or more iterators\n",
    "# # \"\"\"?"
   ]
  },
  {
   "cell_type": "code",
   "execution_count": null,
   "id": "52ed1edb-76c6-40cd-b5b3-7bfdb1735cff",
   "metadata": {},
   "outputs": [],
   "source": []
  },
  {
   "cell_type": "code",
   "execution_count": 16,
   "id": "b02cc6dd-8a6d-48b3-9f6b-aaa3da41f20c",
   "metadata": {},
   "outputs": [
    {
     "data": {
      "text/plain": [
       "'\\n    \\n    An identifier can have a maximum length of 79 characters in Python.\\n'"
      ]
     },
     "execution_count": 16,
     "metadata": {},
     "output_type": "execute_result"
    }
   ],
   "source": [
    "# 12):-What is the maximum possible length of an identifier in python?\n",
    "\n",
    "\"\"\"\n",
    "    \n",
    "    An identifier can have a maximum length of 79 characters in Python.\n",
    "\"\"\""
   ]
  },
  {
   "cell_type": "code",
   "execution_count": null,
   "id": "4de5d2f2-98be-49b9-9838-914cbc5809fc",
   "metadata": {},
   "outputs": [],
   "source": []
  },
  {
   "cell_type": "code",
   "execution_count": 17,
   "id": "d2229084-7973-495a-b419-4543cf5043e0",
   "metadata": {},
   "outputs": [],
   "source": [
    "# # 13)- What are the benefits of using python ?\n",
    "# Simple and straight forward syntax \n",
    "# Case sensitive \n",
    "# Multi – paradigm programming language\n",
    "# Dynamically Typed\n",
    "# Emphasis on code readability\n",
    "# Automatic memory management \n",
    "# Large library support\n",
    "# Large community\n",
    "# Platform independent\n",
    "\n"
   ]
  },
  {
   "cell_type": "code",
   "execution_count": null,
   "id": "408738f7-b453-4f99-92f5-df2709e03363",
   "metadata": {},
   "outputs": [],
   "source": []
  },
  {
   "cell_type": "code",
   "execution_count": 18,
   "id": "7c110901-e73d-49bd-a8d0-d552fe47fc8e",
   "metadata": {},
   "outputs": [
    {
     "data": {
      "text/plain": [
       "'\\n    Memory allocation can be defined as allocating a\\n    block of space in the computer memory to a program.\\n    In Python memory allocation and deallocation method\\n    is automatic as the Python developers created a garbage\\n    collector for Python \\n    so that the user does not have to do manual garbage collection.\\n'"
      ]
     },
     "execution_count": 18,
     "metadata": {},
     "output_type": "execute_result"
    }
   ],
   "source": [
    "# 14 How is memory managed in python?\n",
    "\"\"\"\n",
    "    Memory allocation can be defined as allocating a\n",
    "    block of space in the computer memory to a program.\n",
    "    In Python memory allocation and deallocation method\n",
    "    is automatic as the Python developers created a garbage\n",
    "    collector for Python \n",
    "    so that the user does not have to do manual garbage collection.\n",
    "\"\"\""
   ]
  },
  {
   "cell_type": "code",
   "execution_count": null,
   "id": "e0b4f888-5f86-4688-9fa6-00e0efcb6d8b",
   "metadata": {},
   "outputs": [],
   "source": []
  },
  {
   "cell_type": "code",
   "execution_count": 19,
   "id": "248f52e1-c96e-447d-83ec-c14acd2feeac",
   "metadata": {},
   "outputs": [],
   "source": [
    "# #15 ):-How to install python on windows and set path variables ?\n",
    "# \"\"\"\n",
    "#       Installation \n",
    "#           -visit python.org/downloads/\n",
    "#               - select your operating system \n",
    "#                   - Download installer\n",
    "#                       - Run installer\n",
    "#         IDLE:- Integrted development and learning environmental\n",
    "        \n",
    "#         C:\\Users\\Ron\\AppData\\Local\\Programs\\Python\\Python39;C:\\Users\\…\n",
    "        \n",
    "# \"\"\""
   ]
  },
  {
   "cell_type": "code",
   "execution_count": null,
   "id": "272381cc-a111-4437-a2bd-d5c10dabbc42",
   "metadata": {},
   "outputs": [],
   "source": []
  },
  {
   "cell_type": "code",
   "execution_count": null,
   "id": "1064d01c-ff2a-481b-9e79-15a33534d675",
   "metadata": {},
   "outputs": [],
   "source": [
    "# 16):- Indentation required in python ?\n"
   ]
  }
 ],
 "metadata": {
  "kernelspec": {
   "display_name": "Python 3 (ipykernel)",
   "language": "python",
   "name": "python3"
  },
  "language_info": {
   "codemirror_mode": {
    "name": "ipython",
    "version": 3
   },
   "file_extension": ".py",
   "mimetype": "text/x-python",
   "name": "python",
   "nbconvert_exporter": "python",
   "pygments_lexer": "ipython3",
   "version": "3.10.8"
  }
 },
 "nbformat": 4,
 "nbformat_minor": 5
}
